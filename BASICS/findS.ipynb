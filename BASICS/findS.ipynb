{
  "nbformat": 4,
  "nbformat_minor": 0,
  "metadata": {
    "colab": {
      "provenance": []
    },
    "kernelspec": {
      "name": "python3",
      "display_name": "Python 3"
    },
    "language_info": {
      "name": "python"
    }
  },
  "cells": [
    {
      "cell_type": "code",
      "execution_count": null,
      "metadata": {
        "id": "24gvLb5tXr3O"
      },
      "outputs": [],
      "source": [
        "import numpy as np\n",
        "import pandas as pd"
      ]
    },
    {
      "cell_type": "code",
      "source": [
        "import os\n",
        "for dirname, _, filenames in os.walk('/kaggle/input'):\n",
        "    for filename in filenames:\n",
        "        print(os.path.join(dirname, filename))"
      ],
      "metadata": {
        "id": "yF0EgY9-Znr7"
      },
      "execution_count": null,
      "outputs": []
    },
    {
      "cell_type": "code",
      "source": [
        "import csv\n",
        "num_attributes = 6\n",
        "a = []\n",
        "print(\"\\n The Given Training Data Set \\n\")\n",
        "\n",
        "folder = '/content/ws.csv'\n",
        "file = '/content/ws.csv'\n",
        "\n",
        "with open(file, 'r') as csvfile:\n",
        "    reader = csv.reader(csvfile)\n",
        "    for row in reader:\n",
        "        a.append (row)\n",
        "        print(row)\n",
        "\n",
        "type(reader)"
      ],
      "metadata": {
        "colab": {
          "base_uri": "https://localhost:8080/"
        },
        "id": "u6IW4NSeaoCW",
        "outputId": "1a216d79-ee1d-40bd-e14d-a1f17c4b440e"
      },
      "execution_count": null,
      "outputs": [
        {
          "output_type": "stream",
          "name": "stdout",
          "text": [
            "\n",
            " The Given Training Data Set \n",
            "\n",
            "['Sunny', 'Warm', 'Normal', 'Strong', 'Warm', 'Same', 'Yes']\n",
            "['Sunny', 'Warm', 'High', 'Strong', 'Warm', 'Same', 'Yes']\n",
            "['Rainy', 'Cold', 'High', 'Strong', 'Warm', 'Change', 'No']\n",
            "['Sunny', 'Warm', 'High', 'Strong', 'Cool', 'Change', 'Yes']\n"
          ]
        },
        {
          "output_type": "execute_result",
          "data": {
            "text/plain": [
              "_csv.reader"
            ]
          },
          "metadata": {},
          "execution_count": 5
        }
      ]
    },
    {
      "cell_type": "code",
      "source": [
        "print(\"\\n The initial value of hypothesis: \")\n",
        "hypothesis = ['0'] * num_attributes\n",
        "print(hypothesis)\n",
        "\n",
        "for j in range(0,num_attributes):\n",
        "    hypothesis[j] = a[0][j]\n",
        "\n",
        "hypothesis\n"
      ],
      "metadata": {
        "colab": {
          "base_uri": "https://localhost:8080/"
        },
        "id": "jzCyl0z0aoFG",
        "outputId": "4b92d0ea-e98f-46d3-bfb5-995c49f31ce6"
      },
      "execution_count": null,
      "outputs": [
        {
          "output_type": "stream",
          "name": "stdout",
          "text": [
            "\n",
            " The initial value of hypothesis: \n",
            "['0', '0', '0', '0', '0', '0']\n"
          ]
        },
        {
          "output_type": "execute_result",
          "data": {
            "text/plain": [
              "['Sunny', 'Warm', 'Normal', 'Strong', 'Warm', 'Same']"
            ]
          },
          "metadata": {},
          "execution_count": 6
        }
      ]
    },
    {
      "cell_type": "code",
      "source": [
        "hypothesis == a[0][:-1]"
      ],
      "metadata": {
        "colab": {
          "base_uri": "https://localhost:8080/"
        },
        "id": "CRew9wmoaoIa",
        "outputId": "857a2515-5b88-4216-b1cd-98a6f739f86a"
      },
      "execution_count": null,
      "outputs": [
        {
          "output_type": "execute_result",
          "data": {
            "text/plain": [
              "True"
            ]
          },
          "metadata": {},
          "execution_count": 7
        }
      ]
    },
    {
      "cell_type": "code",
      "source": [
        "print(\"\\n Find S: Finding a Maximally Specific Hypothesis\\n\")\n",
        "\n",
        "for i in range(0,len(a)):\n",
        "    if a[i][num_attributes]=='Yes':\n",
        "        for j in range(0,num_attributes):\n",
        "            print(a[i][j], end=' ')\n",
        "            if a[i][j]!=hypothesis[j]:\n",
        "                hypothesis[j]='?'\n",
        "            else :\n",
        "                hypothesis[j]= a[i][j]\n",
        "    print(\"\\n\\nFor Training instance No:{} the hypothesis is \".format(i), hypothesis)\n",
        "\n",
        "print(\"\\n The Maximally Specific Hypothesis for a given Training Examples :\\n\")\n",
        "print(hypothesis)"
      ],
      "metadata": {
        "colab": {
          "base_uri": "https://localhost:8080/"
        },
        "id": "PHdTPtdAdEcW",
        "outputId": "f5c9911f-38f5-419b-f4e2-c43579b7002f"
      },
      "execution_count": null,
      "outputs": [
        {
          "output_type": "stream",
          "name": "stdout",
          "text": [
            "\n",
            " Find S: Finding a Maximally Specific Hypothesis\n",
            "\n",
            "Sunny Warm Normal Strong Warm Same \n",
            "\n",
            "For Training instance No:0 the hypothesis is  ['Sunny', 'Warm', 'Normal', 'Strong', 'Warm', 'Same']\n",
            "Sunny Warm High Strong Warm Same \n",
            "\n",
            "For Training instance No:1 the hypothesis is  ['Sunny', 'Warm', '?', 'Strong', 'Warm', 'Same']\n",
            "\n",
            "\n",
            "For Training instance No:2 the hypothesis is  ['Sunny', 'Warm', '?', 'Strong', 'Warm', 'Same']\n",
            "Sunny Warm High Strong Cool Change \n",
            "\n",
            "For Training instance No:3 the hypothesis is  ['Sunny', 'Warm', '?', 'Strong', '?', '?']\n",
            "\n",
            " The Maximally Specific Hypothesis for a given Training Examples :\n",
            "\n",
            "['Sunny', 'Warm', '?', 'Strong', '?', '?']\n"
          ]
        }
      ]
    },
    {
      "cell_type": "code",
      "source": [
        "import csv\n",
        "num_attributes = 5\n",
        "a = []\n",
        "print(\"\\n The Given Training Data Set \\n\")\n",
        "\n",
        "with open('/content/ws.csv', 'r') as csvfile:\n",
        "    reader = csv.reader(csvfile)\n",
        "    for row in reader:\n",
        "        a.append (row)\n",
        "        print(row)\n",
        "\n",
        "print(\"\\n The initial value of hypothesis: \")\n",
        "hypothesis = ['0'] * num_attributes\n",
        "print(hypothesis)\n",
        "\n",
        "for j in range(0,num_attributes):\n",
        "    hypothesis[j] = a[1][j]\n",
        "\n",
        "print(\"\\n The a[1] value of hypothesis: \")\n",
        "print(hypothesis)\n",
        "\n",
        "print(\"\\n Find S: Finding a Maximally Specific Hypothesis\\n\")\n",
        "\n",
        "for i in range(0,len(a)):\n",
        "    if a[i][num_attributes]=='Yes':\n",
        "        for j in range(0,num_attributes):\n",
        "            if a[i][j]!=hypothesis[j]:\n",
        "                hypothesis[j]='?'\n",
        "            else :\n",
        "                hypothesis[j]= a[i][j]\n",
        "    print(\" For Training instance No:{} the hypothesis is \".format(i), hypothesis)\n",
        "\n",
        "print(\"\\n The Maximally Specific Hypothesis for a given Training Examples :\\n\")\n",
        "print(hypothesis)"
      ],
      "metadata": {
        "colab": {
          "base_uri": "https://localhost:8080/"
        },
        "id": "XS1uwxO4dEe4",
        "outputId": "5257135e-8208-4424-d679-46e6304c9523"
      },
      "execution_count": null,
      "outputs": [
        {
          "output_type": "stream",
          "name": "stdout",
          "text": [
            "\n",
            " The Given Training Data Set \n",
            "\n",
            "['Sunny', 'Warm', 'Normal', 'Strong', 'Warm', 'Same', 'Yes']\n",
            "['Sunny', 'Warm', 'High', 'Strong', 'Warm', 'Same', 'Yes']\n",
            "['Rainy', 'Cold', 'High', 'Strong', 'Warm', 'Change', 'No']\n",
            "['Sunny', 'Warm', 'High', 'Strong', 'Cool', 'Change', 'Yes']\n",
            "\n",
            " The initial value of hypothesis: \n",
            "['0', '0', '0', '0', '0']\n",
            "\n",
            " The a[1] value of hypothesis: \n",
            "['Sunny', 'Warm', 'High', 'Strong', 'Warm']\n",
            "\n",
            " Find S: Finding a Maximally Specific Hypothesis\n",
            "\n",
            " For Training instance No:0 the hypothesis is  ['Sunny', 'Warm', 'High', 'Strong', 'Warm']\n",
            " For Training instance No:1 the hypothesis is  ['Sunny', 'Warm', 'High', 'Strong', 'Warm']\n",
            " For Training instance No:2 the hypothesis is  ['Sunny', 'Warm', 'High', 'Strong', 'Warm']\n",
            " For Training instance No:3 the hypothesis is  ['Sunny', 'Warm', 'High', 'Strong', 'Warm']\n",
            "\n",
            " The Maximally Specific Hypothesis for a given Training Examples :\n",
            "\n",
            "['Sunny', 'Warm', 'High', 'Strong', 'Warm']\n"
          ]
        }
      ]
    },
    {
      "cell_type": "code",
      "source": [],
      "metadata": {
        "id": "Q791NjoddEjm"
      },
      "execution_count": null,
      "outputs": []
    },
    {
      "cell_type": "code",
      "source": [],
      "metadata": {
        "id": "q-J_p2-WaoRI"
      },
      "execution_count": null,
      "outputs": []
    }
  ]
}