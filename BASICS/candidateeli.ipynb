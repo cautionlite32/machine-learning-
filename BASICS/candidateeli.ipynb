{
  "nbformat": 4,
  "nbformat_minor": 0,
  "metadata": {
    "colab": {
      "provenance": []
    },
    "kernelspec": {
      "name": "python3",
      "display_name": "Python 3"
    },
    "language_info": {
      "name": "python"
    }
  },
  "cells": [
    {
      "cell_type": "code",
      "execution_count": null,
      "metadata": {
        "id": "z8dUl2NglEh3"
      },
      "outputs": [],
      "source": [
        "import pandas as pd\n",
        "import numpy as np\n"
      ]
    },
    {
      "cell_type": "code",
      "source": [],
      "metadata": {
        "id": "9edhxU39N3I4"
      },
      "execution_count": null,
      "outputs": []
    },
    {
      "cell_type": "code",
      "source": [
        "import os\n",
        "for dirname, _, filenames in os.walk('/kaggle/input'):\n",
        "    for filename in filenames:\n",
        "        print(os.path.join(dirname, filename))\n"
      ],
      "metadata": {
        "id": "Yujfe8DxlM_0"
      },
      "execution_count": null,
      "outputs": []
    },
    {
      "cell_type": "code",
      "source": [
        "import random\n",
        "import csv"
      ],
      "metadata": {
        "id": "GomeJEOhlNJq"
      },
      "execution_count": null,
      "outputs": []
    },
    {
      "cell_type": "code",
      "source": [
        "def g_0(n):\n",
        "    return (\"?\",)*n\n",
        "\n",
        "def s_0(n):\n",
        "    return ('0',)*n"
      ],
      "metadata": {
        "id": "Po0Q1pbUlNMG"
      },
      "execution_count": null,
      "outputs": []
    },
    {
      "cell_type": "code",
      "source": [
        "# min_generalizations\n",
        "def fulfills(example, hypothesis):\n",
        "    ### the implementation is the same as for hypotheses:\n",
        "    return more_general(hypothesis, example)\n",
        "\n",
        "def min_generalizations(h, x):\n",
        "    h_new = list(h)\n",
        "    for i in range(len(h)):\n",
        "        if not fulfills(x[i:i+1], h[i:i+1]):\n",
        "            h_new[i] = '?' if h[i] != '0' else x[i]\n",
        "    return [tuple(h_new)]"
      ],
      "metadata": {
        "id": "XN76SOZLlh3L"
      },
      "execution_count": null,
      "outputs": []
    },
    {
      "cell_type": "code",
      "source": [
        "min_generalizations(h=('0', '0'  , 'sunny'),\n",
        "                    x=('rainy', 'windy', 'cloudy'))"
      ],
      "metadata": {
        "colab": {
          "base_uri": "https://localhost:8080/"
        },
        "id": "0gxTRXo3lh5n",
        "outputId": "449474f9-c0b0-47bc-fb56-6d074a62c2cb"
      },
      "execution_count": null,
      "outputs": [
        {
          "output_type": "execute_result",
          "data": {
            "text/plain": [
              "[('rainy', 'windy', '?')]"
            ]
          },
          "metadata": {},
          "execution_count": 7
        }
      ]
    },
    {
      "cell_type": "code",
      "source": [
        "def min_specializations(h, domains, x):\n",
        "    results = []\n",
        "    for i in range(len(h)):\n",
        "        if h[i] == \"?\":\n",
        "            for val in domains[i]:\n",
        "                if x[i] != val:\n",
        "                    h_new = h[:i] + (val,) + h[i+1:]\n",
        "                    results.append(h_new)\n",
        "        elif h[i] != \"0\":\n",
        "            h_new = h[:i] + ('0',) + h[i+1:]\n",
        "            results.append(h_new)\n",
        "    return results"
      ],
      "metadata": {
        "id": "3oN-mmkwlh7_"
      },
      "execution_count": null,
      "outputs": []
    },
    {
      "cell_type": "code",
      "source": [
        "min_specializations(h=('?', 'x',),\n",
        "                    domains=[['a', 'b', 'c'], ['x', 'y']], zxcnbcv  fjdkjfhskjdf kjfhjksdh kjkhljkdf skjlkjzcnvbhbr:Wedfhsnvzc\n",
        "                    x=('b', 'x'))"
      ],
      "metadata": {
        "colab": {
          "base_uri": "https://localhost:8080/"
        },
        "id": "m3-TUOB7lh-s",
        "outputId": "70a609ed-f233-4add-b8f3-5c003f6e2780"
      },
      "execution_count": null,
      "outputs": [
        {
          "output_type": "execute_result",
          "data": {
            "text/plain": [
              "[('a', 'x'), ('c', 'x'), ('?', '0')]"
            ]
          },
          "metadata": {},
          "execution_count": 9
        }
      ]
    },
    {
      "cell_type": "code",
      "source": [
        "with open('/content/ws.csv')  as csvFile:\n",
        "        examples = [tuple(line) for line in csv.reader(csvFile)]"
      ],
      "metadata": {
        "id": "7bBNGHKQliA1"
      },
      "execution_count": null,
      "outputs": []
    },
    {
      "cell_type": "code",
      "source": [
        "def get_domains(examples):\n",
        "    d = [set() for i in examples[0]]\n",
        "    for x in examples:\n",
        "        for i, xi in enumerate(x):\n",
        "            d[i].add(xi)\n",
        "    return [list(sorted(x)) for x in d]\n",
        "\n",
        "get_domains(examples)"
      ],
      "metadata": {
        "colab": {
          "base_uri": "https://localhost:8080/"
        },
        "id": "1D5rZlAJmCaz",
        "outputId": "f05415f4-c790-4342-9f71-51469443da65"
      },
      "execution_count": null,
      "outputs": [
        {
          "output_type": "execute_result",
          "data": {
            "text/plain": [
              "[['Rainy', 'Sunny'],\n",
              " ['Cold', 'Warm'],\n",
              " ['High', 'Normal'],\n",
              " ['Strong'],\n",
              " ['Cool', 'Warm'],\n",
              " ['Change', 'Same'],\n",
              " ['No', 'Yes']]"
            ]
          },
          "metadata": {},
          "execution_count": 11
        }
      ]
    },
    {
      "cell_type": "code",
      "source": [
        "def candidate_elimination(examples):\n",
        "    domains = get_domains(examples)[:-1]\n",
        "\n",
        "    G = set([g_0(len(domains))])\n",
        "    S = set([s_0(len(domains))])\n",
        "    i=0\n",
        "    print(\"\\n G[{0}]:\".format(i),G)\n",
        "    print(\"\\n S[{0}]:\".format(i),S)\n",
        "    for xcx in examples:\n",
        "        i=i+1\n",
        "        x, cx = xcx[:-1], xcx[-1]  # Splitting data into attributes and decisions\n",
        "        if cx=='Y': # x is positive example\n",
        "            G = {g for g in G if fulfills(x, g)}\n",
        "            S = generalize_S(x, G, S)\n",
        "        else: # x is negative example\n",
        "            S = {s for s in S if not fulfills(x, s)}\n",
        "            G = specialize_G(x, domains, G, S)\n",
        "        print(\"\\n G[{0}]:\".format(i),G)\n",
        "        print(\"\\n S[{0}]:\".format(i),S)\n",
        "    return"
      ],
      "metadata": {
        "id": "3mI_--VvmCdG"
      },
      "execution_count": null,
      "outputs": []
    },
    {
      "cell_type": "code",
      "source": [
        "def generalize_S(x, G, S):\n",
        "    S_prev = list(S)\n",
        "    for s in S_prev:\n",
        "        if s not in S:\n",
        "            continue\n",
        "        if not fulfills(x, s):\n",
        "            S.remove(s)\n",
        "            Splus = min_generalizations(s, x)\n",
        "            ## keep only generalizations that have a counterpart in G\n",
        "            S.update([h for h in Splus if any([more_general(g,h)\n",
        "                                               for g in G])])\n",
        "            ## remove hypotheses less specific than any other in S\n",
        "            S.difference_update([h for h in S if\n",
        "                                 any([more_general(h, h1)\n",
        "                                      for h1 in S if h != h1])])\n",
        "    return S"
      ],
      "metadata": {
        "id": "FCDIpMNBmCfs"
      },
      "execution_count": null,
      "outputs": []
    },
    {
      "cell_type": "code",
      "source": [
        "def specialize_G(x, domains, G, S):\n",
        "    G_prev = list(G)\n",
        "    for g in G_prev:\n",
        "        if g not in G:\n",
        "            continue\n",
        "        if fulfills(x, g):\n",
        "            G.remove(g)\n",
        "            Gminus = min_specializations(g, domains, x)\n",
        "            ## keep only specializations that have a conuterpart in S\n",
        "            G.update([h for h in Gminus if any([more_general(h, s)\n",
        "                                                for s in S])])\n",
        "            ## remove hypotheses less general than any other in G\n",
        "            G.difference_update([h for h in G if\n",
        "                                 any([more_general(g1, h)\n",
        "                                      for g1 in G if h != g1])])\n",
        "    return G"
      ],
      "metadata": {
        "id": "66JUNOa4mCiQ"
      },
      "execution_count": null,
      "outputs": []
    },
    {
      "cell_type": "code",
      "source": [
        "candidate_elimination(examples)"
      ],
      "metadata": {
        "colab": {
          "base_uri": "https://localhost:8080/"
        },
        "id": "4NWXWAyYmWUk",
        "outputId": "bea2dfd3-2089-4bdf-f6b1-fed56a33fc8e"
      },
      "execution_count": null,
      "outputs": [
        {
          "output_type": "stream",
          "name": "stdout",
          "text": [
            "\n",
            " G[0]: {('?', '?', '?', '?', '?', '?')}\n",
            "\n",
            " S[0]: {('0', '0', '0', '0', '0', '0')}\n",
            "\n",
            " G[1]: {('?', '?', 'High', '?', '?', '?'), ('?', '?', '?', '?', 'Cool', '?'), ('Rainy', '?', '?', '?', '?', '?'), ('?', '?', '?', '?', '?', 'Change'), ('?', 'Cold', '?', '?', '?', '?')}\n",
            "\n",
            " S[1]: {('0', '0', '0', '0', '0', '0')}\n",
            "\n",
            " G[2]: {('?', '?', '?', '?', 'Cool', '?'), ('Rainy', '?', '?', '?', '?', '?'), ('?', '?', '?', '?', '?', 'Change'), ('?', 'Cold', '?', '?', '?', '?')}\n",
            "\n",
            " S[2]: {('0', '0', '0', '0', '0', '0')}\n",
            "\n",
            " G[3]: {('?', '?', 'Normal', '?', '?', 'Change'), ('Sunny', '?', '?', '?', '?', 'Change'), ('Sunny', 'Cold', '?', '?', '?', '?'), ('?', 'Cold', '?', '?', '?', 'Same'), ('Rainy', 'Warm', '?', '?', '?', '?'), ('?', 'Cold', 'Normal', '?', '?', '?'), ('?', 'Warm', '?', '?', '?', 'Change'), ('?', '?', '?', '?', 'Cool', '?'), ('Rainy', '?', '?', '?', '?', 'Same'), ('Rainy', '?', 'Normal', '?', '?', '?')}\n",
            "\n",
            " S[3]: {('0', '0', '0', '0', '0', '0')}\n",
            "\n",
            " G[4]: {('Sunny', 'Cold', '?', '?', '?', '?'), ('?', 'Warm', '?', '?', 'Warm', 'Change'), ('?', 'Cold', '?', '?', 'Cool', '?'), ('?', '?', '?', '?', 'Cool', 'Same'), ('Rainy', '?', '?', '?', '?', 'Same'), ('Rainy', '?', '?', '?', 'Cool', '?'), ('Sunny', '?', '?', '?', 'Warm', 'Change'), ('?', '?', 'Normal', '?', 'Cool', '?'), ('?', 'Cold', 'Normal', '?', '?', '?'), ('?', 'Cold', '?', '?', '?', 'Same'), ('Rainy', 'Warm', '?', '?', '?', '?'), ('?', '?', 'Normal', '?', '?', 'Change'), ('Rainy', '?', 'Normal', '?', '?', '?')}\n",
            "\n",
            " S[4]: {('0', '0', '0', '0', '0', '0')}\n"
          ]
        }
      ]
    }
  ]
}